{
  "nbformat": 4,
  "nbformat_minor": 0,
  "metadata": {
    "colab": {
      "provenance": []
    },
    "kernelspec": {
      "name": "python3",
      "display_name": "Python 3"
    },
    "language_info": {
      "name": "python"
    }
  },
  "cells": [
    {
      "cell_type": "markdown",
      "source": [
        "##Importing Libraries"
      ],
      "metadata": {
        "id": "ix76QO9VOkb0"
      }
    },
    {
      "cell_type": "code",
      "execution_count": null,
      "metadata": {
        "id": "VQG06HtyOY0G"
      },
      "outputs": [],
      "source": [
        "import pandas as pd  # Importing pandas for data manipulation and analysis\n",
        "import requests  # Importing requests to send HTTP requests and fetch web pages\n",
        "from bs4 import BeautifulSoup  # Importing BeautifulSoup for web scraping and parsing HTML\n",
        "import numpy as np  # Importing NumPy for numerical operations and handling arrays"
      ]
    },
    {
      "cell_type": "markdown",
      "source": [
        "### Requesting the url"
      ],
      "metadata": {
        "id": "HKLmUwDaiaAP"
      }
    },
    {
      "cell_type": "code",
      "source": [
        "webpage = requests.get('https://www.amazon.in/s?i=electronics&rh=n%3A6612025031&fs=true&page=2&qid=1738240395&xpid=eqMqKl6yX7IQG&ref=sr_pg_1',headers=headers).text"
      ],
      "metadata": {
        "id": "yFc8H6i9SL0-"
      },
      "execution_count": null,
      "outputs": []
    },
    {
      "cell_type": "code",
      "source": [
        "soup=BeautifulSoup(webpage,'lxml')"
      ],
      "metadata": {
        "id": "NjACW75MSX7I"
      },
      "execution_count": null,
      "outputs": []
    },
    {
      "cell_type": "markdown",
      "source": [
        "### Accsessing the Web data"
      ],
      "metadata": {
        "id": "YSh1jkT3ig1I"
      }
    },
    {
      "cell_type": "markdown",
      "source": [
        "#### Product Name analyzing"
      ],
      "metadata": {
        "id": "O_8Bt4PbjHT1"
      }
    },
    {
      "cell_type": "code",
      "source": [
        "for i in soup.find_all('a',class_=\"a-link-normal s-line-clamp-4 s-link-style a-text-normal\"):\n",
        "  print(i.text)"
      ],
      "metadata": {
        "colab": {
          "base_uri": "https://localhost:8080/"
        },
        "id": "WrmVbRhRSmyi",
        "outputId": "60e432ac-9481-4eab-dff1-c641ccdcc27a"
      },
      "execution_count": null,
      "outputs": [
        {
          "output_type": "stream",
          "name": "stdout",
          "text": [
            "Ambrane 10000mAh MagSafe Powerbank with Stand 22.5W Wired & 15W Wireless Fast Charging Dual Input (Type-C & Lightning) | Triple Output | Strong Magnetic for iPhone 12+, Android Devices (PB 11, Black)\n",
            "boAt Newly Launched Energyshroom PB401 20000mAh Power Bank| Micro USB and Type C (2-Way Input Ports), 22.5W, 3X Output Ports, Compatible with Tablets, Smartphones, Earbuds, Smartwatch (Carbon Black)\n",
            "Lifelong ZenCharge 20000 mAh 22.5 W Compact Pocket Size Power Bank with 6 Input/Output Port (Blue, Lithium Polymer, Fast Charging, Quick Charge 3.0 for Mobile, Earbuds, Speaker, Tablet)\n",
            "ZEBRONICS MB10000S4 Power Bank, 10000 mAh, 12W, Dual USB Output, Type C & Micro USB Input, Built in Protections, Percentage LED Display, Included USB to Type C Cable, Made in India\n",
            "boAt Energyshroom PB400 Pro 20000mAh | Pocket Size, Compact Power Bank w/Type-C Input (2-Way Port), 3X Output Ports, Compatible with Tablets, Smartphones, Earbuds, Smartwatch(Carbon Black)\n",
            "Xiaomi Pocket Power Bank pro 10000mAh 33W Super Fast Charging PD|Compact|Power Delivery|QC 3.0|Type C Input & Output|Triple Output Ports|Blue|Supports Android,Apple,Tablets,Earbuds,Watches etc (MI)\n",
            "boAt Energyshroom PB300 Powerbank with 10000mAh Battery, 22.5w Fast Charging, 12-Layer Smart IC Protection, LED Indicators and Aluminum Alloy Casing(Carbon Black)\n",
            "Stuffcool Click 10000mAh Slim Magnetic Wireless Powerbank Natural Titanium Finish Perfect for iPhone 16,15,14,13,12 with Led Display and 20W Fast Wired Charging - Charges iPhone 50% in 30 mins\n",
            "boAt Energyshroom PB400 Pro 20000mAh | Pocket Size, Compact Power Bank w/Type-C Input (2-Way Port), 3X Output Ports, Compatible with Tablets, Smartphones, Earbuds, Smartwatch(Emerald Green)\n",
            "pTron Dynamo Arc 10000mAh 22.5W USB Fast Charging Nano Magnetic Power Bank, 15W Magnetic Wireless Charging, 20W PD/Type C Fast Charging, 3 Outputs/1 Input & Multiple Layers of Protection (Black)\n",
            "Ambrane 20000mAh 33W Fast Charging Power Bank, Emergency Backup for Macbooks/Type C Laptops,Type-C Input & Output PD 3.0, For All Mobiles-iPhone & Android, Tablets, Other Devices (PowerlitDuo 30 Blue)\n",
            "Ambrane 20000mAh Rugged Compact Powerbank, Slim & Lightweight with 22.5W Fast Charging, USB & Type C Output, Power Delivery, Quick Charge for iPhone, Android & Other Devices (Force 20k, Black)\n",
            "Lifelong ZenCharge 20000 mAh 22.5 W Compact Pocket Size Power Bank with 6 Input/Output Port (Olive, Lithium Polymer, Fast Charging, Quick Charge 3.0 for Mobile, Earbuds,Speaker, Tablet)\n",
            "Ambrane MagSafe Wireless 10000mAh Fast Charging Power Bank, Strong Magnet, 22.5W Output for iPhone 12 & Above, Android & Other Qi Enabled Devices, Premium Rubberized Coating (Aerosync Snap, Yellow)\n",
            "ZEBRONICS MW63 Wireless Power Bank, 10000 mAh, Rapid Charge, Magsafe, Outputs - 20W Wired | 15W Wireless, Type C PD, Built in Protections, LED Indicator, Compatible with iPhone, Made in India\n",
            "pTron Dynamo Ultra 20000mAh Power Bank, 22.5W Superfast Charging, Compact Size, Type-C/PD 20W Fast Charging, Supports VOOC/Wrap/Dash/Quick Charge Protocols, 3 Output Ports, Type-C Input/Output (Blue)\n",
            "Ambrane MagSafe Wireless 10000mAh Fast Charging Power Bank with Mobile Stand, Strong Magnet, 22.5W Output for iPhone 12 & Above, Android & Other Qi Enabled Device + Magnetic Ring (Mount, Blue)\n",
            "Xiaomi Power Bank 10000mAh 22.5W Fast Charging PD | Power Delivery | QC 3.0|Type C Input & Output |Triple Output Ports|Supports Android and Apple, Tablets, Earbuds, Watches etc\n",
            "Portronics Luxcell Wireless Mini 10k 10000mAh 15W Magnetic Wireless Fast Charging Nano Power Bank with 22.5 Wired Output Compatible with iPhone 12 & Above & Other QI Enabled Devices(Light Blue)\n",
            "Portronics Luxcell B 10K 10000 mAh 22.5W Fast Charging Power Bank, Ultra Slim Power Bank with Mach USB-A Output, Type C PD Output, Type C Input, Wake Up Button(Green)\n",
            "pTron Dynamo Surge 20000mAh 22.5W Fast Charging Power Bank, Supports VOOC/Wrap/Dash USB Charging, 20W PD Fast Charging, 3 Outputs, 1 Input & Multiple Layers of Protection (Blue)\n",
            "pTron Dynamo Ultra 20000mAh Power Bank, 22.5W Superfast Charging, Compact Size, Type-C/PD 20W Fast Charging, Supports VOOC/Wrap/Dash/Quick Charge Protocols, 3 Output Ports, Type-C Input/Output (Black)\n",
            "Portronics Luxcell B 10K 10000 mAh 22.5W Fast Charging Power Bank, Ultra Slim Power Bank with Mach USB-A Output, Type C PD Output, Type C Input, Wake Up Button(Dark Blue)\n",
            "pTron Newly Launched Dynamo Nergy 10000mAh 22.5W Fast Charging Power Bank, Supports VOOC/Wrap/Dash USB Charging, 20W PD Fast Charging, 3 Outputs, 1 Input & Multiple Layers of Protection (Black)\n"
          ]
        }
      ]
    },
    {
      "cell_type": "markdown",
      "source": [
        "#### Accesing the Rating data"
      ],
      "metadata": {
        "id": "mun4H8iXjXc3"
      }
    },
    {
      "cell_type": "code",
      "source": [
        "for i in soup.find_all('span',class_=\"a-icon-alt\"):\n",
        "  print(i.text)"
      ],
      "metadata": {
        "colab": {
          "base_uri": "https://localhost:8080/"
        },
        "id": "wBPuCSV8Vd7O",
        "outputId": "4c2d2908-1cf9-46bc-807e-d9fa74749209"
      },
      "execution_count": null,
      "outputs": [
        {
          "output_type": "stream",
          "name": "stdout",
          "text": [
            "3.8 out of 5 stars\n",
            "5.0 out of 5 stars\n",
            "4.0 out of 5 stars\n",
            "3.5 out of 5 stars\n",
            "4.0 out of 5 stars\n",
            "4.3 out of 5 stars\n",
            "4.0 out of 5 stars\n",
            "3.9 out of 5 stars\n",
            "4.0 out of 5 stars\n",
            "3.5 out of 5 stars\n",
            "4.9 out of 5 stars\n",
            "3.9 out of 5 stars\n",
            "4.3 out of 5 stars\n",
            "3.8 out of 5 stars\n",
            "3.3 out of 5 stars\n",
            "4.3 out of 5 stars\n",
            "3.8 out of 5 stars\n",
            "4.2 out of 5 stars\n",
            "3.9 out of 5 stars\n",
            "3.9 out of 5 stars\n",
            "4.0 out of 5 stars\n",
            "4.3 out of 5 stars\n",
            "3.9 out of 5 stars\n",
            "4.0 out of 5 stars\n",
            "4 Stars & Up\n"
          ]
        }
      ]
    },
    {
      "cell_type": "markdown",
      "source": [
        "#### Acessing the Price Data"
      ],
      "metadata": {
        "id": "iZ2P8Cmwjkof"
      }
    },
    {
      "cell_type": "code",
      "source": [
        "for i in soup.find_all('span',class_=\"a-price-whole\"):\n",
        "  print(i.text)"
      ],
      "metadata": {
        "colab": {
          "base_uri": "https://localhost:8080/"
        },
        "id": "uAhocUSNZdwc",
        "outputId": "339d0644-06ff-4c78-fae9-8147306bda90"
      },
      "execution_count": null,
      "outputs": [
        {
          "output_type": "stream",
          "name": "stdout",
          "text": [
            "1,699\n",
            "1,749\n",
            "1,658\n",
            "499\n",
            "1,998\n",
            "1,799\n",
            "1,108\n",
            "1,998\n",
            "1,998\n",
            "1,098\n",
            "2,199\n",
            "1,899\n",
            "1,708\n",
            "1,499\n",
            "1,599\n",
            "1,599\n",
            "1,699\n",
            "1,289\n",
            "1,398\n",
            "729\n",
            "1,399\n",
            "1,599\n",
            "789\n",
            "808\n"
          ]
        }
      ]
    },
    {
      "cell_type": "markdown",
      "source": [
        "#### Combining all the code"
      ],
      "metadata": {
        "id": "N6ZX8-FUjypl"
      }
    },
    {
      "cell_type": "code",
      "source": [
        "import requests  # Importing the requests library for making HTTP requests\n",
        "from bs4 import BeautifulSoup  # Importing BeautifulSoup for parsing HTML\n",
        "import time  # Importing time for adding delays if needed\n",
        "import random  # Importing random to randomize the User-Agent\n",
        "import numpy as np  # Importing numpy to handle missing values\n",
        "\n",
        "all_data = []  # Initialize an empty list to store extracted product data\n",
        "\n",
        "# Loop through 90 pages\n",
        "for j in range(1, 91):\n",
        "    url = f'https://www.amazon.in/s?i=electronics&rh=n%3A6612025031&fs=true&page={j}'  # Construct URL for each page\n",
        "\n",
        "    # Define headers with a random User-Agent to mimic human browsing\n",
        "    headers = {\n",
        "        'User-Agent': random.choice([\n",
        "            'Mozilla/5.0 (Windows NT 10.0; Win64; x64) AppleWebKit/537.36 (KHTML, like Gecko) Chrome/119.0.0.0 Safari/537.36',\n",
        "            'Mozilla/5.0 (Macintosh; Intel Mac OS X 10_15_7) AppleWebKit/537.36 (KHTML, like Gecko) Chrome/118.0.0.0 Safari/537.36',\n",
        "            'Mozilla/5.0 (Windows NT 10.0; Win64; x64) AppleWebKit/537.36 (KHTML, like Gecko) Chrome/115.0.0.0 Safari/537.36'\n",
        "        ])\n",
        "    }\n",
        "\n",
        "    try:\n",
        "        # Send HTTP request to fetch the page content\n",
        "        response = requests.get(url, headers=headers, timeout=10)\n",
        "\n",
        "        # Check if the request was successful\n",
        "        if response.status_code != 200:\n",
        "            print(f\"Skipping page {j}: Status Code {response.status_code}\")  # Log failed requests\n",
        "            continue\n",
        "\n",
        "        soup = BeautifulSoup(response.text, 'lxml')  # Parse the HTML content using lxml parser\n",
        "\n",
        "    except requests.exceptions.RequestException as e:\n",
        "        print(f\"Failed to retrieve page {j}: {e}\")  # Log request failures\n",
        "        continue\n",
        "\n",
        "    # Extract all product listings\n",
        "    amazon = soup.find_all('div', class_=\"s-result-item\")\n",
        "\n",
        "    # Loop through each product listing\n",
        "    for i in amazon:\n",
        "        # Extract product details with error handling for missing elements\n",
        "        data = {\n",
        "            'Product_name': i.find('a', class_=\"a-link-normal s-line-clamp-4 s-link-style a-text-normal\").text.strip()\n",
        "                           if i.find('a', class_=\"a-link-normal s-line-clamp-4 s-link-style a-text-normal\") else np.nan,\n",
        "\n",
        "            'Price': i.find('span', class_=\"a-price-whole\").text.strip()\n",
        "                     if i.find('span', class_=\"a-price-whole\") else np.nan,\n",
        "\n",
        "            'Rating': i.find('span', class_=\"a-icon-alt\").text.strip()\n",
        "                      if i.find('span', class_=\"a-icon-alt\") else np.nan\n",
        "        }\n",
        "        all_data.append(data)  # Append extracted data to the list\n",
        "\n",
        "# Convert the list of extracted data into a Pandas DataFrame\n",
        "df = pd.DataFrame(all_data)\n",
        "\n",
        "\n",
        "\n"
      ],
      "metadata": {
        "colab": {
          "base_uri": "https://localhost:8080/"
        },
        "id": "yHBWNokVkW9f",
        "outputId": "d8fb81e9-6382-4cfa-c965-b136bc4a3ef5"
      },
      "execution_count": null,
      "outputs": [
        {
          "output_type": "stream",
          "name": "stdout",
          "text": [
            "Skipping page 1: Status Code 503\n",
            "Skipping page 2: Status Code 503\n",
            "Skipping page 3: Status Code 503\n",
            "Skipping page 4: Status Code 503\n",
            "Skipping page 5: Status Code 503\n",
            "Skipping page 7: Status Code 503\n",
            "Skipping page 8: Status Code 503\n",
            "Skipping page 9: Status Code 503\n",
            "Skipping page 10: Status Code 503\n",
            "Skipping page 11: Status Code 503\n",
            "Skipping page 12: Status Code 503\n",
            "Skipping page 13: Status Code 503\n",
            "Skipping page 14: Status Code 503\n",
            "Skipping page 15: Status Code 503\n",
            "Skipping page 16: Status Code 503\n",
            "Skipping page 17: Status Code 503\n",
            "Skipping page 18: Status Code 503\n",
            "Skipping page 19: Status Code 503\n",
            "Skipping page 20: Status Code 503\n",
            "Skipping page 21: Status Code 503\n",
            "Skipping page 22: Status Code 503\n",
            "Skipping page 23: Status Code 503\n",
            "Skipping page 24: Status Code 503\n",
            "Skipping page 25: Status Code 503\n",
            "Skipping page 26: Status Code 503\n",
            "Skipping page 27: Status Code 503\n",
            "Skipping page 28: Status Code 503\n",
            "Skipping page 29: Status Code 503\n",
            "Skipping page 30: Status Code 503\n",
            "Skipping page 32: Status Code 503\n",
            "Skipping page 33: Status Code 503\n",
            "Skipping page 34: Status Code 503\n",
            "Skipping page 35: Status Code 503\n",
            "Skipping page 36: Status Code 503\n",
            "Skipping page 37: Status Code 503\n",
            "Skipping page 38: Status Code 503\n",
            "Skipping page 39: Status Code 503\n",
            "Skipping page 40: Status Code 503\n",
            "Skipping page 41: Status Code 503\n",
            "Skipping page 42: Status Code 503\n",
            "Skipping page 43: Status Code 503\n",
            "Skipping page 45: Status Code 503\n",
            "Skipping page 46: Status Code 503\n",
            "Skipping page 47: Status Code 503\n",
            "Skipping page 48: Status Code 503\n",
            "Skipping page 49: Status Code 503\n",
            "Skipping page 50: Status Code 503\n",
            "Skipping page 51: Status Code 503\n",
            "Skipping page 52: Status Code 503\n",
            "Skipping page 53: Status Code 503\n",
            "Skipping page 54: Status Code 503\n",
            "Skipping page 55: Status Code 503\n",
            "Skipping page 56: Status Code 503\n",
            "Skipping page 58: Status Code 503\n",
            "Skipping page 59: Status Code 503\n",
            "Skipping page 60: Status Code 503\n",
            "Skipping page 61: Status Code 503\n",
            "Skipping page 62: Status Code 503\n",
            "Skipping page 63: Status Code 503\n",
            "Skipping page 64: Status Code 503\n",
            "Skipping page 65: Status Code 503\n",
            "Skipping page 66: Status Code 503\n",
            "Skipping page 67: Status Code 503\n",
            "Skipping page 68: Status Code 503\n",
            "Skipping page 69: Status Code 503\n",
            "Skipping page 70: Status Code 503\n",
            "Skipping page 71: Status Code 503\n",
            "Skipping page 73: Status Code 503\n",
            "Skipping page 74: Status Code 503\n",
            "Skipping page 75: Status Code 503\n",
            "Skipping page 77: Status Code 503\n",
            "Skipping page 78: Status Code 503\n",
            "Skipping page 79: Status Code 503\n",
            "Skipping page 80: Status Code 503\n",
            "Skipping page 81: Status Code 503\n",
            "Skipping page 82: Status Code 503\n",
            "Skipping page 83: Status Code 503\n",
            "Skipping page 84: Status Code 503\n",
            "Skipping page 85: Status Code 503\n",
            "Skipping page 86: Status Code 503\n",
            "Skipping page 87: Status Code 503\n",
            "Skipping page 88: Status Code 503\n",
            "Skipping page 89: Status Code 503\n",
            "Skipping page 90: Status Code 503\n"
          ]
        }
      ]
    },
    {
      "cell_type": "markdown",
      "source": [
        "### Fetching the Seller Column from Product Column"
      ],
      "metadata": {
        "id": "0Wk32YkGkck4"
      }
    },
    {
      "cell_type": "code",
      "source": [
        "df['Seller_name'] = df['Product_name'].str.split().str.get(0)"
      ],
      "metadata": {
        "id": "W4NKwygPp_mj"
      },
      "execution_count": null,
      "outputs": []
    },
    {
      "cell_type": "markdown",
      "source": [
        "###Converting the DataFrame to csv file"
      ],
      "metadata": {
        "id": "rrhmghkjkoLN"
      }
    },
    {
      "cell_type": "code",
      "source": [
        "df.to_csv('amazon_data.csv',index=False)"
      ],
      "metadata": {
        "id": "zzQT0omiqCfZ"
      },
      "execution_count": null,
      "outputs": []
    },
    {
      "cell_type": "code",
      "source": [],
      "metadata": {
        "id": "-BSGLXV2rI6y"
      },
      "execution_count": null,
      "outputs": []
    }
  ]
}